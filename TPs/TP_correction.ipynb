{
  "nbformat": 4,
  "nbformat_minor": 0,
  "metadata": {
    "colab": {
      "provenance": []
    },
    "kernelspec": {
      "name": "python3",
      "display_name": "Python 3"
    },
    "language_info": {
      "name": "python"
    }
  },
  "cells": [
    {
      "cell_type": "markdown",
      "source": [
        "# Correction des TP/TD"
      ],
      "metadata": {
        "id": "r--e6s4nl6OY"
      }
    },
    {
      "cell_type": "markdown",
      "source": [
        "**Exercice** **1**.**1** : Fonction de moyenne\n",
        "Objectif : Créer une fonction calcul_moyenne() pour calculer la moyenne d'une liste de flottants.\n",
        "\n",
        "**Solution** :"
      ],
      "metadata": {
        "id": "AYgjIs97bMjq"
      }
    },
    {
      "cell_type": "code",
      "execution_count": null,
      "metadata": {
        "id": "aEWNU4H6R_uX"
      },
      "outputs": [],
      "source": [
        "def calcul_moyenne(donnees: list[float]) -> float:\n",
        "    if not donnees:  # Vérifie si la liste est vide\n",
        "        return 0.0\n",
        "    return sum(donnees) / len(donnees)"
      ]
    },
    {
      "cell_type": "markdown",
      "source": [
        "**Questions** :\n",
        "\n",
        "1. Que retourne la fonction si la liste est [1.0, 2.0, 3.0] ?"
      ],
      "metadata": {
        "id": "sIZtHXQ9bUHr"
      }
    },
    {
      "cell_type": "code",
      "source": [
        "result = calcul_moyenne([1.0, 2.0, 3.0])\n",
        "print(result)"
      ],
      "metadata": {
        "colab": {
          "base_uri": "https://localhost:8080/"
        },
        "id": "f7k18aFJbmHp",
        "outputId": "72cef29c-a2d9-4b94-b071-f7d060f987a0"
      },
      "execution_count": null,
      "outputs": [
        {
          "output_type": "stream",
          "name": "stdout",
          "text": [
            "2.0\n"
          ]
        }
      ]
    },
    {
      "cell_type": "markdown",
      "source": [
        "1. Que se passe-t-il si la liste est vide ? La fonction retourne 0.0, car nous vérifions si la liste est vide et retournons 0.0 dans ce cas."
      ],
      "metadata": {
        "id": "DP5GYcQ_bsTQ"
      }
    },
    {
      "cell_type": "markdown",
      "source": [
        "**Exercice 1.2** : Gestion d'une liste vide\n",
        "\n",
        "**Objectif** : Améliorer la fonction pour retourner None si la liste est vide et tester avec plusieurs jeux de données.\n",
        "\n",
        "**Solution** :"
      ],
      "metadata": {
        "id": "TNiPG-3QcIpn"
      }
    },
    {
      "cell_type": "code",
      "source": [
        "def calcul_moyenne(donnees: list[float]) -> float | None:\n",
        "    if not donnees:  # Si la liste est vide\n",
        "        return None\n",
        "    return sum(donnees) / len(donnees)\n",
        "\n",
        "# Tests avec différents jeux de données\n",
        "test_cases = [\n",
        "    [1.0, 2.0, 3.0],  # Liste normale\n",
        "    [],                # Liste vide\n",
        "    [5.5],             # Liste avec un seul élément\n",
        "    [-1.0, 0.0, 1.0],  # Liste avec des valeurs négatives\n",
        "    [0.0, 0.0, 0.0]\n",
        "]\n",
        "\n",
        "for data in test_cases:\n",
        "    result = calcul_moyenne(data)\n",
        "    print(f\"Données : {data}, Moyenne : {result}\")"
      ],
      "metadata": {
        "colab": {
          "base_uri": "https://localhost:8080/"
        },
        "id": "zyvc6XRQb62A",
        "outputId": "2f1ace43-8d0a-47fb-95e0-9405441ee2f2"
      },
      "execution_count": null,
      "outputs": [
        {
          "output_type": "stream",
          "name": "stdout",
          "text": [
            "Données : [1.0, 2.0, 3.0], Moyenne : 2.0\n",
            "Données : [], Moyenne : None\n",
            "Données : [5.5], Moyenne : 5.5\n",
            "Données : [-1.0, 0.0, 1.0], Moyenne : 0.0\n",
            "Données : [0.0, 0.0, 0.0], Moyenne : 0.0\n"
          ]
        }
      ]
    },
    {
      "cell_type": "markdown",
      "source": [
        "**Exercice 1.3** : Analyse de données génomiques\n",
        "\n",
        "**Objectif** : Créer une fonction qui retourne le gène le plus exprimé à partir d'un dictionnaire.\n",
        "\n",
        "**Solution** :"
      ],
      "metadata": {
        "id": "yAmeGLTCcd9j"
      }
    },
    {
      "cell_type": "code",
      "source": [
        "def gene_plus_exprime(donnees: dict[str, int]) -> str | None:\n",
        "    if not donnees:  # Si le dictionnaire est vide\n",
        "        return None\n",
        "    return max(donnees, key=donnees.get)\n",
        "\n",
        "# Test avec les données fournies\n",
        "donnees = {\"BRCA1\": 5200, \"TP53\": 3400, \"EGFR\": 4100}\n",
        "result = gene_plus_exprime(donnees)\n",
        "print(f\"Le gène le plus exprimé est : {result}\")"
      ],
      "metadata": {
        "colab": {
          "base_uri": "https://localhost:8080/"
        },
        "id": "2xorR1iAcu6a",
        "outputId": "fd2974e4-f541-410b-e407-07a84c8d30bd"
      },
      "execution_count": null,
      "outputs": [
        {
          "output_type": "stream",
          "name": "stdout",
          "text": [
            "Le gène le plus exprimé est : BRCA1\n"
          ]
        }
      ]
    },
    {
      "cell_type": "markdown",
      "source": [
        "\n",
        "\n",
        "### **Exercice 1.4 : Avantages de Python**\n",
        "\n",
        "**Objectif** : Rédiger un tableau comparatif Python vs. un autre langage (par exemple, C++) selon simplicité, bibliothèques, communauté, vitesse.\n",
        "\n",
        "**Solution** :\n",
        "\n",
        "| Critère         | Python                              | C++                                 |\n",
        "|-----------------|-------------------------------------|-------------------------------------|\n",
        "| **Simplicité**  | Syntaxe claire, facile à apprendre, idéale pour le prototypage rapide. | Syntaxe complexe, nécessite une gestion manuelle de la mémoire. |\n",
        "| **Bibliothèques** | Écosystème riche (NumPy, Pandas, TensorFlow, etc.) pour le calcul scientifique. | Bibliothèques comme Boost ou Eigen, mais moins orientées science des données. |\n",
        "| **Communauté**  | Très large, active dans la recherche scientifique et l'open-source. | Large, mais plus axée sur le développement système/performance. |\n",
        "| **Vitesse**     | Plus lent (interprété), mais optimisable avec Cython/Numba. | Très rapide (compilé), idéal pour les applications critiques en performance. |\n",
        "\n",
        "**Remarque** : Python excelle pour la simplicité et les bibliothèques scientifiques, tandis que C++ est préféré pour la vitesse dans des applications nécessitant des performances élevées.\n"
      ],
      "metadata": {
        "id": "WT24sxeIdD1b"
      }
    },
    {
      "cell_type": "markdown",
      "source": [
        "**Exercice 1.5 : Lecture critique de code scientifique**\n",
        "\n",
        "**Objectif** : Trouver un article scientifique utilisant Python, identifier les bibliothèques utilisées et leur but."
      ],
      "metadata": {
        "id": "Zr2hLS5kwSa8"
      }
    },
    {
      "cell_type": "markdown",
      "source": [
        "L'article \"REVOLUTIONIZING RICE YIELD PREDICTION: A DATADRIVEN APPROACH IN MAURITANIA\" utilise Python pour prédire les rendements de riz avec des modèles d'apprentissage automatique. Les bibliothèques Python identifiées dans le code fourni sont pandas et scikit-learn, qui permettent respectivement la manipulation des données et la mise en œuvre de modèles prédictifs. D'autres bibliothèques, comme TensorFlow ou PyTorch, pourraient être utilisées pour des modèles comme LSTM ou GRU mentionnés dans l'article, mais elles ne sont pas présentes dans le code fourni."
      ],
      "metadata": {
        "id": "YU1lVQolwT80"
      }
    },
    {
      "cell_type": "markdown",
      "source": [
        "**Bibliothèques**:\n",
        "\n",
        "*Python*\n",
        "\n",
        "*pandas*\n",
        "\n",
        "*sklearn*\n",
        "\n",
        "*joblib*"
      ],
      "metadata": {
        "id": "jStIbAD1z1lz"
      }
    },
    {
      "cell_type": "markdown",
      "source": [
        "**Exercice 1.6: Création de Tenseurs de Base**\n",
        "\n",
        "**Objective**: Create simple tensors in TensorFlow and PyTorch, and display their properties."
      ],
      "metadata": {
        "id": "BwszXxEm9zJj"
      }
    },
    {
      "cell_type": "code",
      "source": [
        "# With TensorFlow\n",
        "import tensorflow as tf\n",
        "tensor_tf = tf.constant([[1, 2], [3, 4]])\n",
        "\n",
        "# With PyTorch\n",
        "import torch\n",
        "tensor_pt = torch.tensor([[1, 2], [3, 4]])\n",
        "\n",
        "# Display tensors and their properties\n",
        "print(\"TensorFlow tensor:\", tensor_tf)\n",
        "print(\"TensorFlow shape:\", tensor_tf.shape)\n",
        "print(\"PyTorch tensor:\", tensor_pt)\n",
        "print(\"PyTorch shape:\", tensor_pt.shape)"
      ],
      "metadata": {
        "id": "OtRmyJjadurh",
        "colab": {
          "base_uri": "https://localhost:8080/"
        },
        "outputId": "8f4779a2-6d54-467e-b571-fbb8655e84f5"
      },
      "execution_count": 1,
      "outputs": [
        {
          "output_type": "stream",
          "name": "stdout",
          "text": [
            "TensorFlow tensor: tf.Tensor(\n",
            "[[1 2]\n",
            " [3 4]], shape=(2, 2), dtype=int32)\n",
            "TensorFlow shape: (2, 2)\n",
            "PyTorch tensor: tensor([[1, 2],\n",
            "        [3, 4]])\n",
            "PyTorch shape: torch.Size([2, 2])\n"
          ]
        }
      ]
    },
    {
      "cell_type": "markdown",
      "source": [
        "**Reponse**:\n",
        "\n",
        "Différence: tf.constant est immutable, torch.tensor est mutable par défaut.\n",
        "\n",
        "Vérification de la forme (shape): TensorFlow utilise tensor_tf.shape, PyTorch utilise tensor_pt.shape."
      ],
      "metadata": {
        "id": "5C8km4Fq-a7u"
      }
    },
    {
      "cell_type": "markdown",
      "source": [
        "**Exercice 1.7: Opérations Tensoriels de Base**\n",
        "\n",
        "**Objective**: Perform addition, matrix multiplication, and element-wise multiplication on 3x3 tensors."
      ],
      "metadata": {
        "id": "IH3Dy1j4_QC5"
      }
    },
    {
      "cell_type": "code",
      "source": [
        "# With TensorFlow\n",
        "import tensorflow as tf\n",
        "\n",
        "# Create two 3x3 tensors\n",
        "a_tf = tf.constant([[1, 2, 3], [4, 5, 6], [7, 8, 9]])\n",
        "b_tf = tf.constant([[9, 8, 7], [6, 5, 4], [3, 2, 1]])\n",
        "\n",
        "# 1. Addition element-wise\n",
        "add_tf = a_tf + b_tf\n",
        "\n",
        "# 2. Matrix multiplication\n",
        "matmul_tf = tf.matmul(a_tf, b_tf)\n",
        "\n",
        "# 3. Element-wise multiplication (Hadamard)\n",
        "hadamard_tf = a_tf * b_tf\n",
        "\n",
        "print(\"Addition (TensorFlow):\", add_tf)\n",
        "print(\"Matrix Multiplication (TensorFlow):\", matmul_tf)\n",
        "print(\"Hadamard Product (TensorFlow):\", hadamard_tf)\n",
        "\n",
        "# With PyTorch\n",
        "import torch\n",
        "\n",
        "# Create two 3x3 tensors\n",
        "a_pt = torch.tensor([[1, 2, 3], [4, 5, 6], [7, 8, 9]])\n",
        "b_pt = torch.tensor([[9, 8, 7], [6, 5, 4], [3, 2, 1]])\n",
        "\n",
        "# 1. Addition element-wise\n",
        "add_pt = a_pt + b_pt\n",
        "\n",
        "# 2. Matrix multiplication\n",
        "matmul_pt = torch.matmul(a_pt, b_pt)\n",
        "\n",
        "# 3. Element-wise multiplication (Hadamard)\n",
        "hadamard_pt = a_pt * b_pt\n",
        "\n",
        "print(\"Addition (PyTorch):\", add_pt)\n",
        "print(\"Matrix Multiplication (PyTorch):\", matmul_pt)\n",
        "print(\"Hadamard Product (PyTorch):\", hadamard_pt)"
      ],
      "metadata": {
        "colab": {
          "base_uri": "https://localhost:8080/"
        },
        "id": "7dUyeoWN_hcE",
        "outputId": "bc596c99-96b1-4ce6-80ea-fe9106d28b51"
      },
      "execution_count": 2,
      "outputs": [
        {
          "output_type": "stream",
          "name": "stdout",
          "text": [
            "Addition (TensorFlow): tf.Tensor(\n",
            "[[10 10 10]\n",
            " [10 10 10]\n",
            " [10 10 10]], shape=(3, 3), dtype=int32)\n",
            "Matrix Multiplication (TensorFlow): tf.Tensor(\n",
            "[[ 30  24  18]\n",
            " [ 84  69  54]\n",
            " [138 114  90]], shape=(3, 3), dtype=int32)\n",
            "Hadamard Product (TensorFlow): tf.Tensor(\n",
            "[[ 9 16 21]\n",
            " [24 25 24]\n",
            " [21 16  9]], shape=(3, 3), dtype=int32)\n",
            "Addition (PyTorch): tensor([[10, 10, 10],\n",
            "        [10, 10, 10],\n",
            "        [10, 10, 10]])\n",
            "Matrix Multiplication (PyTorch): tensor([[ 30,  24,  18],\n",
            "        [ 84,  69,  54],\n",
            "        [138, 114,  90]])\n",
            "Hadamard Product (PyTorch): tensor([[ 9, 16, 21],\n",
            "        [24, 25, 24],\n",
            "        [21, 16,  9]])\n"
          ]
        }
      ]
    },
    {
      "cell_type": "markdown",
      "source": [
        "**Exercice 1.8: Redimensionnement et Broadcasting**\n",
        "\n",
        "**Objective**: Comprendre le reshape et le broadcasting."
      ],
      "metadata": {
        "id": "CpbY1sjU_5VV"
      }
    },
    {
      "cell_type": "code",
      "source": [
        "# With TensorFlow\n",
        "import tensorflow as tf\n",
        "\n",
        "# Starting from a 1D tensor of 12 elements\n",
        "data_tf = tf.constant([1, 2, 3, 4, 5, 6, 7, 8, 9, 10, 11, 12])\n",
        "\n",
        "# 1. Reshape to 3x4\n",
        "reshaped_3x4_tf = tf.reshape(data_tf, [3, 4])\n",
        "\n",
        "# 2. Reshape to 2x3x2\n",
        "reshaped_2x3x2_tf = tf.reshape(data_tf, [2, 3, 2])\n",
        "\n",
        "# 3. Broadcasting example: operation between 3x1 and 1x3\n",
        "tensor1_tf = tf.constant([[1], [2], [3]])  # 3x1\n",
        "tensor2_tf = tf.constant([[4, 5, 6]])      # 1x3\n",
        "broadcasted_tf = tensor1_tf + tensor2_tf   # Results in 3x3\n",
        "\n",
        "print(\"3x4 shape (TensorFlow):\", reshaped_3x4_tf.shape)\n",
        "print(\"2x3x2 shape (TensorFlow):\", reshaped_2x3x2_tf.shape)\n",
        "print(\"Broadcasted shape (TensorFlow):\", broadcasted_tf.shape)\n",
        "\n",
        "# With PyTorch\n",
        "import torch\n",
        "\n",
        "# Starting from a 1D tensor of 12 elements\n",
        "data_pt = torch.tensor([1, 2, 3, 4, 5, 6, 7, 8, 9, 10, 11, 12])\n",
        "\n",
        "# 1. Reshape to 3x4\n",
        "reshaped_3x4_pt = torch.reshape(data_pt, (3, 4))\n",
        "\n",
        "# 2. Reshape to 2x3x2\n",
        "reshaped_2x3x2_pt = torch.reshape(data_pt, (2, 3, 2))\n",
        "\n",
        "# 3. Broadcasting example: operation between 3x1 and 1x3\n",
        "tensor1_pt = torch.tensor([[1], [2], [3]])  # 3x1\n",
        "tensor2_pt = torch.tensor([[4, 5, 6]])      # 1x3\n",
        "broadcasted_pt = tensor1_pt + tensor2_pt    # Results in 3x3\n",
        "\n",
        "print(\"3x4 shape (PyTorch):\", reshaped_3x4_pt.shape)\n",
        "print(\"2x3x2 shape (PyTorch):\", reshaped_2x3x2_pt.shape)\n",
        "print(\"Broadcasted shape (PyTorch):\", broadcasted_pt.shape)"
      ],
      "metadata": {
        "colab": {
          "base_uri": "https://localhost:8080/"
        },
        "id": "aXyHaKZqAVl4",
        "outputId": "7b557e85-9fd2-48cf-9648-3b0c5a6a69c2"
      },
      "execution_count": 3,
      "outputs": [
        {
          "output_type": "stream",
          "name": "stdout",
          "text": [
            "3x4 shape (TensorFlow): (3, 4)\n",
            "2x3x2 shape (TensorFlow): (2, 3, 2)\n",
            "Broadcasted shape (TensorFlow): (3, 3)\n",
            "3x4 shape (PyTorch): torch.Size([3, 4])\n",
            "2x3x2 shape (PyTorch): torch.Size([2, 3, 2])\n",
            "Broadcasted shape (PyTorch): torch.Size([3, 3])\n"
          ]
        }
      ]
    },
    {
      "cell_type": "markdown",
      "source": [
        "**Exercice 1.9.1: Tenseurs sur GPU**\n",
        "\n",
        "**Objective**: Utiliser l’accélération matérielle."
      ],
      "metadata": {
        "id": "R2Yj53CxAddh"
      }
    },
    {
      "cell_type": "code",
      "source": [
        "# With TensorFlow\n",
        "import tensorflow as tf\n",
        "import time\n",
        "\n",
        "# Check GPU availability\n",
        "gpus = tf.config.list_physical_devices('GPU')\n",
        "if gpus:\n",
        "    print(\"GPU is available\")\n",
        "else:\n",
        "    print(\"GPU is not available\")\n",
        "\n",
        "# Compare execution time CPU vs GPU for matrix multiplication\n",
        "if gpus:\n",
        "    # CPU\n",
        "    start_time = time.time()\n",
        "    a_cpu = tf.random.normal([1000, 1000])\n",
        "    b_cpu = tf.random.normal([1000, 1000])\n",
        "    result_cpu = tf.matmul(a_cpu, b_cpu)\n",
        "    print(\"Time on CPU:\", time.time() - start_time)\n",
        "\n",
        "    # GPU\n",
        "    with tf.device('/GPU:0'):\n",
        "        start_time = time.time()\n",
        "        a_gpu = tf.random.normal([1000, 1000])\n",
        "        b_gpu = tf.random.normal([1000, 1000])\n",
        "        result_gpu = tf.matmul(a_gpu, b_gpu)\n",
        "        print(\"Time on GPU:\", time.time() - start_time)\n",
        "else:\n",
        "    print(\"No GPU available for comparison\")\n",
        "\n",
        "# With PyTorch\n",
        "import torch\n",
        "\n",
        "# Check GPU availability\n",
        "if torch.cuda.is_available():\n",
        "    print(\"GPU is available\")\n",
        "else:\n",
        "    print(\"GPU is not available\")\n",
        "\n",
        "# Compare execution time CPU vs GPU\n",
        "if torch.cuda.is_available():\n",
        "    # CPU\n",
        "    start_time = time.time()\n",
        "    a_cpu = torch.randn(1000, 1000)\n",
        "    b_cpu = torch.randn(1000, 1000)\n",
        "    result_cpu = torch.matmul(a_cpu, b_cpu)\n",
        "    print(\"Time on CPU:\", time.time() - start_time)\n",
        "\n",
        "    # GPU\n",
        "    start_time = time.time()\n",
        "    a_gpu = torch.randn(1000, 1000).cuda()\n",
        "    b_gpu = torch.randn(1000, 1000).cuda()\n",
        "    result_gpu = torch.matmul(a_gpu, b_gpu)\n",
        "    print(\"Time on GPU:\", time.time() - start_time)\n",
        "else:\n",
        "    print(\"No GPU available for comparison\")"
      ],
      "metadata": {
        "colab": {
          "base_uri": "https://localhost:8080/"
        },
        "id": "RDjFkOXuAsx_",
        "outputId": "4692e09a-e8ab-403d-ed3c-34f6f41a6d36"
      },
      "execution_count": 4,
      "outputs": [
        {
          "output_type": "stream",
          "name": "stdout",
          "text": [
            "GPU is not available\n",
            "No GPU available for comparison\n",
            "GPU is not available\n",
            "No GPU available for comparison\n"
          ]
        }
      ]
    },
    {
      "cell_type": "markdown",
      "source": [
        "**Exercice 1.9.2: Gradients Automatiques**\n",
        "\n",
        "**Objective**: Comprendre le calcul automatique des gradients."
      ],
      "metadata": {
        "id": "CUEerp10A0O3"
      }
    },
    {
      "cell_type": "code",
      "source": [
        "# With TensorFlow\n",
        "import tensorflow as tf\n",
        "\n",
        "x_tf = tf.Variable(2.0)\n",
        "with tf.GradientTape() as tape:\n",
        "    y_tf = x_tf**2 + 3*x_tf + 1\n",
        "dy_dx_tf = tape.gradient(y_tf, x_tf)\n",
        "print(\"dy/dx (TensorFlow):\", dy_dx_tf.numpy())  # Output: 7.0\n",
        "\n",
        "# With PyTorch\n",
        "import torch\n",
        "\n",
        "x_pt = torch.tensor(2.0, requires_grad=True)\n",
        "y_pt = x_pt**2 + 3*x_pt + 1\n",
        "y_pt.backward()\n",
        "print(\"dy/dx (PyTorch):\", x_pt.grad)  # Output: tensor(7.)"
      ],
      "metadata": {
        "colab": {
          "base_uri": "https://localhost:8080/"
        },
        "id": "vMHeM3r3BDsR",
        "outputId": "ce3967bc-fc29-4164-d5c8-9607eee0bf65"
      },
      "execution_count": 5,
      "outputs": [
        {
          "output_type": "stream",
          "name": "stdout",
          "text": [
            "dy/dx (TensorFlow): 7.0\n",
            "dy/dx (PyTorch): tensor(7.)\n"
          ]
        }
      ]
    },
    {
      "cell_type": "markdown",
      "source": [
        "**Exercice 1.9.3: Conversion entre Frameworks**\n",
        "\n",
        "**Objective**: Convertir des tenseurs entre TensorFlow et PyTorch."
      ],
      "metadata": {
        "id": "xeWghx1lBKwR"
      }
    },
    {
      "cell_type": "code",
      "source": [
        "# Conversion from TensorFlow to PyTorch\n",
        "import tensorflow as tf\n",
        "import torch\n",
        "\n",
        "tensor_tf = tf.constant([[1, 2], [3, 4]])\n",
        "np_array = tensor_tf.numpy()\n",
        "tensor_pt = torch.from_numpy(np_array)\n",
        "print(\"TensorFlow to PyTorch:\", tensor_pt)\n",
        "\n",
        "# Conversion from PyTorch to TensorFlow\n",
        "tensor_pt = torch.tensor([[1, 2], [3, 4]])\n",
        "np_array = tensor_pt.numpy()\n",
        "tensor_tf = tf.convert_to_tensor(np_array)\n",
        "print(\"PyTorch to TensorFlow:\", tensor_tf)"
      ],
      "metadata": {
        "colab": {
          "base_uri": "https://localhost:8080/"
        },
        "id": "bjZAQo6_Bhbj",
        "outputId": "bdc582c3-e589-4746-a395-3a7bc7c6bf48"
      },
      "execution_count": 6,
      "outputs": [
        {
          "output_type": "stream",
          "name": "stdout",
          "text": [
            "TensorFlow to PyTorch: tensor([[1, 2],\n",
            "        [3, 4]], dtype=torch.int32)\n",
            "PyTorch to TensorFlow: tf.Tensor(\n",
            "[[1 2]\n",
            " [3 4]], shape=(2, 2), dtype=int64)\n"
          ]
        }
      ]
    },
    {
      "cell_type": "markdown",
      "source": [
        "**Exercice 1.9.4: Tenseurs pour Images**\n",
        "\n",
        "**Objective**: Manipuler des images comme des tenseurs."
      ],
      "metadata": {
        "id": "BDpZD7JDBoWM"
      }
    },
    {
      "cell_type": "code",
      "source": [
        "from PIL import Image\n",
        "import numpy as np\n",
        "import tensorflow as tf\n",
        "import torch\n",
        "\n",
        "# Load image\n",
        "img = Image.open(\"image.png\")\n",
        "\n",
        "# Convert to array\n",
        "img_array = np.array(img)\n",
        "\n",
        "# Normalize to [0,1]\n",
        "img_normalized = img_array.astype(np.float32) / 255.0\n",
        "\n",
        "# Add batch dimension\n",
        "img_batched = np.expand_dims(img_normalized, axis=0)\n",
        "\n",
        "# Convert to TensorFlow tensor\n",
        "tensor_tf = tf.convert_to_tensor(img_batched)\n",
        "\n",
        "# Convert to PyTorch tensor\n",
        "tensor_pt = torch.from_numpy(img_batched)\n",
        "\n",
        "# For PyTorch, permute to (B, C, H, W) if necessary\n",
        "if len(tensor_pt.shape) == 4 and tensor_pt.shape[1] != 3:  # Assuming RGB\n",
        "    tensor_pt = tensor_pt.permute(0, 3, 1, 2)\n",
        "\n",
        "print(\"TensorFlow tensor shape:\", tensor_tf.shape)\n",
        "print(\"PyTorch tensor shape:\", tensor_pt.shape)"
      ],
      "metadata": {
        "colab": {
          "base_uri": "https://localhost:8080/"
        },
        "id": "Mebi1tO3B73b",
        "outputId": "936ed621-75d9-4b89-f703-93ec82942d88"
      },
      "execution_count": 7,
      "outputs": [
        {
          "output_type": "stream",
          "name": "stdout",
          "text": [
            "TensorFlow tensor shape: (1, 590, 1189, 4)\n",
            "PyTorch tensor shape: torch.Size([1, 4, 590, 1189])\n"
          ]
        }
      ]
    },
    {
      "cell_type": "markdown",
      "source": [
        "**Exercice 1.9.5: Tenseurs pour Séquences**\n",
        "\n",
        "**Objective**: Créer des tenseurs pour des données séquentielles."
      ],
      "metadata": {
        "id": "H-6uBsxLCqYG"
      }
    },
    {
      "cell_type": "code",
      "source": [
        "# With TensorFlow\n",
        "import tensorflow as tf\n",
        "\n",
        "seq = [1, 3, 5, 7, 9, 11]\n",
        "X_tf = tf.constant([[1, 3], [3, 5], [5, 7]])\n",
        "y_tf = tf.constant([[5], [7], [9]])\n",
        "\n",
        "print(\"X (TensorFlow):\", X_tf)\n",
        "print(\"y (TensorFlow):\", y_tf)\n",
        "\n",
        "# With PyTorch\n",
        "import torch\n",
        "\n",
        "X_pt = torch.tensor([[1, 3], [3, 5], [5, 7]])\n",
        "y_pt = torch.tensor([[5], [7], [9]])\n",
        "\n",
        "print(\"X (PyTorch):\", X_pt)\n",
        "print(\"y (PyTorch):\", y_pt)"
      ],
      "metadata": {
        "colab": {
          "base_uri": "https://localhost:8080/"
        },
        "id": "0w8hrfRsDDvj",
        "outputId": "e6a909dc-5f7b-4b4d-aafd-6a130575c3e2"
      },
      "execution_count": 8,
      "outputs": [
        {
          "output_type": "stream",
          "name": "stdout",
          "text": [
            "X (TensorFlow): tf.Tensor(\n",
            "[[1 3]\n",
            " [3 5]\n",
            " [5 7]], shape=(3, 2), dtype=int32)\n",
            "y (TensorFlow): tf.Tensor(\n",
            "[[5]\n",
            " [7]\n",
            " [9]], shape=(3, 1), dtype=int32)\n",
            "X (PyTorch): tensor([[1, 3],\n",
            "        [3, 5],\n",
            "        [5, 7]])\n",
            "y (PyTorch): tensor([[5],\n",
            "        [7],\n",
            "        [9]])\n"
          ]
        }
      ]
    },
    {
      "cell_type": "markdown",
      "source": [
        "**Exercice 1.9.6 : Initialisation de tenseurs**\n",
        "\n",
        "**Objectif** : Comparer différentes méthodes d’initialisation de tenseurs : zéros, valeurs aléatoires uniformes, normales, et Xavier/Glorot."
      ],
      "metadata": {
        "id": "5vU7qVbTDK5Y"
      }
    },
    {
      "cell_type": "code",
      "source": [
        "import tensorflow as tf\n",
        "import torch\n",
        "\n",
        "# 1. Initialisation avec des zéros\n",
        "# TensorFlow\n",
        "zeros_tf = tf.zeros([2, 3])\n",
        "print(\"Zéros (TensorFlow):\", zeros_tf)\n",
        "\n",
        "# PyTorch\n",
        "zeros_pt = torch.zeros(2, 3)\n",
        "print(\"Zéros (PyTorch):\", zeros_pt)\n",
        "\n",
        "# 2. Initialisation avec des valeurs aléatoires uniformes\n",
        "# TensorFlow (entre -1 et 1)\n",
        "uniform_tf = tf.random.uniform([2, 3], minval=-1, maxval=1)\n",
        "print(\"Uniformes (TensorFlow):\", uniform_tf)\n",
        "\n",
        "# PyTorch (entre -1 et 1)\n",
        "uniform_pt = torch.rand(2, 3) * 2 - 1\n",
        "print(\"Uniformes (PyTorch):\", uniform_pt)\n",
        "\n",
        "# 3. Initialisation avec des valeurs aléatoires normales\n",
        "# TensorFlow (moyenne 0, écart-type 1)\n",
        "normal_tf = tf.random.normal([2, 3], mean=0.0, stddev=1.0)\n",
        "print(\"Normales (TensorFlow):\", normal_tf)\n",
        "\n",
        "# PyTorch (distribution normale standard)\n",
        "normal_pt = torch.randn(2, 3)\n",
        "print(\"Normales (PyTorch):\", normal_pt)\n",
        "\n",
        "# 4. Initialisation Xavier/Glorot\n",
        "# TensorFlow (pour une matrice 2x3)\n",
        "fan_in = 2\n",
        "fan_out = 3\n",
        "stddev = tf.sqrt(2.0 / (fan_in + fan_out))\n",
        "xavier_tf = tf.random.normal([2, 3], stddev=stddev)\n",
        "print(\"Xavier (TensorFlow):\", xavier_tf)\n",
        "\n",
        "# PyTorch (utilisation de la fonction intégrée)\n",
        "xavier_pt = torch.empty(2, 3)\n",
        "torch.nn.init.xavier_normal_(xavier_pt)\n",
        "print(\"Xavier (PyTorch):\", xavier_pt)"
      ],
      "metadata": {
        "colab": {
          "base_uri": "https://localhost:8080/"
        },
        "id": "ahYKa64-IZ95",
        "outputId": "9c410d5e-f6b2-4c06-f586-6eefe0f85eab"
      },
      "execution_count": 9,
      "outputs": [
        {
          "output_type": "stream",
          "name": "stdout",
          "text": [
            "Zéros (TensorFlow): tf.Tensor(\n",
            "[[0. 0. 0.]\n",
            " [0. 0. 0.]], shape=(2, 3), dtype=float32)\n",
            "Zéros (PyTorch): tensor([[0., 0., 0.],\n",
            "        [0., 0., 0.]])\n",
            "Uniformes (TensorFlow): tf.Tensor(\n",
            "[[ 0.27136016  0.08402133  0.7152107 ]\n",
            " [ 0.36151648 -0.55757976 -0.75572586]], shape=(2, 3), dtype=float32)\n",
            "Uniformes (PyTorch): tensor([[ 0.8954,  0.0078, -0.1968],\n",
            "        [-0.0887, -0.2313, -0.3363]])\n",
            "Normales (TensorFlow): tf.Tensor(\n",
            "[[ 0.2652357  -0.49083033 -0.05771731]\n",
            " [-0.47926378 -0.23523656 -0.28146064]], shape=(2, 3), dtype=float32)\n",
            "Normales (PyTorch): tensor([[ 0.6217,  1.3954,  0.5242],\n",
            "        [ 0.4272, -1.1951, -1.4612]])\n",
            "Xavier (TensorFlow): tf.Tensor(\n",
            "[[-1.0958295  -0.05655833  0.3852806 ]\n",
            " [-0.15172693  0.14448139  0.29620594]], shape=(2, 3), dtype=float32)\n",
            "Xavier (PyTorch): tensor([[ 0.5935, -0.0341,  0.4159],\n",
            "        [-0.0179, -0.1996, -0.6488]])\n"
          ]
        }
      ]
    },
    {
      "cell_type": "markdown",
      "source": [
        "**Exercice 1.9.7 : Tenseurs creux**\n",
        "\n",
        "**Objectif** : Créer des tenseurs creux pour une matrice diagonale et une matrice avec peu de valeurs non nulles, et convertir entre formats dense et sparse."
      ],
      "metadata": {
        "id": "iHp6PRXzIg0L"
      }
    },
    {
      "cell_type": "code",
      "source": [
        "import tensorflow as tf\n",
        "import torch\n",
        "\n",
        "# 1. Initialisation avec des zéros\n",
        "# TensorFlow\n",
        "zeros_tf = tf.zeros([2, 3])\n",
        "print(\"Zéros (TensorFlow):\", zeros_tf)\n",
        "\n",
        "# PyTorch\n",
        "zeros_pt = torch.zeros(2, 3)\n",
        "print(\"Zéros (PyTorch):\", zeros_pt)\n",
        "\n",
        "# 2. Initialisation avec des valeurs aléatoires uniformes\n",
        "# TensorFlow (entre -1 et 1)\n",
        "uniform_tf = tf.random.uniform([2, 3], minval=-1, maxval=1)\n",
        "print(\"Uniformes (TensorFlow):\", uniform_tf)\n",
        "\n",
        "# PyTorch (entre -1 et 1)\n",
        "uniform_pt = torch.rand(2, 3) * 2 - 1\n",
        "print(\"Uniformes (PyTorch):\", uniform_pt)\n",
        "\n",
        "# 3. Initialisation avec des valeurs aléatoires normales\n",
        "# TensorFlow (moyenne 0, écart-type 1)\n",
        "normal_tf = tf.random.normal([2, 3], mean=0.0, stddev=1.0)\n",
        "print(\"Normales (TensorFlow):\", normal_tf)\n",
        "\n",
        "# PyTorch (distribution normale standard)\n",
        "normal_pt = torch.randn(2, 3)\n",
        "print(\"Normales (PyTorch):\", normal_pt)\n",
        "\n",
        "# 4. Initialisation Xavier/Glorot\n",
        "# TensorFlow (pour une matrice 2x3)\n",
        "fan_in = 2\n",
        "fan_out = 3\n",
        "stddev = tf.sqrt(2.0 / (fan_in + fan_out))\n",
        "xavier_tf = tf.random.normal([2, 3], stddev=stddev)\n",
        "print(\"Xavier (TensorFlow):\", xavier_tf)\n",
        "\n",
        "# PyTorch (utilisation de la fonction intégrée)\n",
        "xavier_pt = torch.empty(2, 3)\n",
        "torch.nn.init.xavier_normal_(xavier_pt)\n",
        "print(\"Xavier (PyTorch):\", xavier_pt)"
      ],
      "metadata": {
        "colab": {
          "base_uri": "https://localhost:8080/"
        },
        "id": "hCS-EFzZJinF",
        "outputId": "279269fa-4bb0-4df1-dc62-b38b74a7befe"
      },
      "execution_count": 10,
      "outputs": [
        {
          "output_type": "stream",
          "name": "stdout",
          "text": [
            "Zéros (TensorFlow): tf.Tensor(\n",
            "[[0. 0. 0.]\n",
            " [0. 0. 0.]], shape=(2, 3), dtype=float32)\n",
            "Zéros (PyTorch): tensor([[0., 0., 0.],\n",
            "        [0., 0., 0.]])\n",
            "Uniformes (TensorFlow): tf.Tensor(\n",
            "[[ 0.05237889  0.7972646   0.8695998 ]\n",
            " [ 0.24757934 -0.5616336   0.8895209 ]], shape=(2, 3), dtype=float32)\n",
            "Uniformes (PyTorch): tensor([[ 0.7899, -0.5013,  0.1601],\n",
            "        [-0.7303, -0.4669, -0.9360]])\n",
            "Normales (TensorFlow): tf.Tensor(\n",
            "[[ 0.03883849 -0.5828756   0.82627267]\n",
            " [ 0.17963104 -0.94123787 -0.47926772]], shape=(2, 3), dtype=float32)\n",
            "Normales (PyTorch): tensor([[ 0.2450,  0.0906, -1.2229],\n",
            "        [ 0.1559, -0.8328,  1.2466]])\n",
            "Xavier (TensorFlow): tf.Tensor(\n",
            "[[ 0.4833477   0.07127275  0.33979648]\n",
            " [ 0.60477495 -0.42753765 -0.0290801 ]], shape=(2, 3), dtype=float32)\n",
            "Xavier (PyTorch): tensor([[-0.4916,  0.1047, -0.4058],\n",
            "        [ 0.0961, -0.6413,  0.0144]])\n"
          ]
        }
      ]
    },
    {
      "cell_type": "markdown",
      "source": [
        "**Exercice 1.9.8 : Visualisation de tenseurs**\n",
        "\n",
        "**Objectif** : Visualiser un tenseur 3D (16x16x3) avec Matplotlib, en affichant l’image complète, les canaux séparément, et des tranches."
      ],
      "metadata": {
        "id": "EFmn2JScJ621"
      }
    },
    {
      "cell_type": "code",
      "source": [
        "import numpy as np\n",
        "import matplotlib.pyplot as plt\n",
        "\n",
        "# Créer un tenseur 3D aléatoire (16x16x3) représentant une image RGB\n",
        "tensor_3d = np.random.rand(16, 16, 3)\n",
        "\n",
        "# 1. Afficher l’image complète\n",
        "plt.figure(figsize=(5,5))\n",
        "plt.imshow(tensor_3d)\n",
        "plt.title(\"Image complète\")\n",
        "plt.show()\n",
        "\n",
        "# 2. Afficher chaque canal séparément\n",
        "for i in range(3):\n",
        "    plt.figure(figsize=(5,5))\n",
        "    plt.imshow(tensor_3d[:, :, i], cmap='gray')\n",
        "    plt.title(f\"Canal {i+1}\")\n",
        "    plt.show()\n",
        "\n",
        "# 3. Afficher des tranches le long de la première dimension (indices 0, 7, 15)\n",
        "for i in [0, 7, 15]:\n",
        "    plt.figure(figsize=(5,5))\n",
        "    plt.imshow(tensor_3d[i, :, :])\n",
        "    plt.title(f\"Tranche {i}\")\n",
        "    plt.show()"
      ],
      "metadata": {
        "colab": {
          "base_uri": "https://localhost:8080/",
          "height": 1000
        },
        "id": "qIUfrEIyKEKg",
        "outputId": "5e480094-41a5-4ef3-db7a-854c237c7f8e"
      },
      "execution_count": 11,
      "outputs": [
        {
          "output_type": "display_data",
          "data": {
            "text/plain": [
              "<Figure size 500x500 with 1 Axes>"
            ],
            "image/png": "[encoded data removed]"
          },
          "metadata": {}
        },
        {
          "output_type": "display_data",
          "data": {
            "text/plain": [
              "<Figure size 500x500 with 1 Axes>"
            ],
            "image/png": "[encoded data removed]"
          },
          "metadata": {}
        },
        {
          "output_type": "display_data",
          "data": {
            "text/plain": [
              "<Figure size 500x500 with 1 Axes>"
            ],
            "image/png": "[encoded data removed]"
          },
          "metadata": {}
        },
        {
          "output_type": "display_data",
          "data": {
            "text/plain": [
              "<Figure size 500x500 with 1 Axes>"
            ],
            "image/png": "[encoded data removed]"
          },
          "metadata": {}
        },
        {
          "output_type": "display_data",
          "data": {
            "text/plain": [
              "<Figure size 500x500 with 1 Axes>"
            ],
            "image/png": "[encoded data removed]"
          },
          "metadata": {}
        },
        {
          "output_type": "display_data",
          "data": {
            "text/plain": [
              "<Figure size 500x500 with 1 Axes>"
            ],
            "image/png": "[encoded data removed]"
          },
          "metadata": {}
        },
        {
          "output_type": "display_data",
          "data": {
            "text/plain": [
              "<Figure size 500x500 with 1 Axes>"
            ],
            "image/png": "[encoded data removed]"
          },
          "metadata": {}
        }
      ]
    },
    {
      "cell_type": "markdown",
      "source": [
        "**Exercice 1.9.9 : Tenseurs et Pandas**\n",
        "\n",
        "**Objectif** : Convertir entre DataFrames Pandas et tenseurs, effectuer une opération, et reconvertir."
      ],
      "metadata": {
        "id": "x4PdLjc3KZne"
      }
    },
    {
      "cell_type": "code",
      "source": [
        "import pandas as pd\n",
        "import tensorflow as tf\n",
        "import torch\n",
        "\n",
        "# Créer un DataFrame simple\n",
        "df = pd.DataFrame({\n",
        "    'A': [1, 2, 3],\n",
        "    'B': [4, 5, 6],\n",
        "    'C': [7, 8, 9]\n",
        "})\n",
        "\n",
        "# Convertir en tableau NumPy\n",
        "np_array = df.values\n",
        "\n",
        "# Convertir en tenseur TensorFlow\n",
        "tensor_tf = tf.convert_to_tensor(np_array)\n",
        "print(\"Tenseur TensorFlow :\", tensor_tf)\n",
        "\n",
        "# Convertir en tenseur PyTorch\n",
        "tensor_pt = torch.from_numpy(np_array)\n",
        "print(\"Tenseur PyTorch :\", tensor_pt)\n",
        "\n",
        "# Effectuer une opération (par exemple, ajouter 1)\n",
        "tensor_tf_plus1 = tensor_tf + 1\n",
        "tensor_pt_plus1 = tensor_pt + 1\n",
        "\n",
        "# Reconvertir en DataFrame\n",
        "df_tf_back = pd.DataFrame(tensor_tf_plus1.numpy(), columns=df.columns)\n",
        "df_pt_back = pd.DataFrame(tensor_pt_plus1.numpy(), columns=df.columns)\n",
        "\n",
        "print(\"DataFrame reconverti (TensorFlow) :\", df_tf_back)\n",
        "print(\"DataFrame reconverti (PyTorch) :\", df_pt_back)"
      ],
      "metadata": {
        "colab": {
          "base_uri": "https://localhost:8080/"
        },
        "id": "bUmBgqfFKZLz",
        "outputId": "16f64988-08b3-4afc-be4d-d1d83d87b802"
      },
      "execution_count": 12,
      "outputs": [
        {
          "output_type": "stream",
          "name": "stdout",
          "text": [
            "Tenseur TensorFlow : tf.Tensor(\n",
            "[[1 4 7]\n",
            " [2 5 8]\n",
            " [3 6 9]], shape=(3, 3), dtype=int64)\n",
            "Tenseur PyTorch : tensor([[1, 4, 7],\n",
            "        [2, 5, 8],\n",
            "        [3, 6, 9]])\n",
            "DataFrame reconverti (TensorFlow) :    A  B   C\n",
            "0  2  5   8\n",
            "1  3  6   9\n",
            "2  4  7  10\n",
            "DataFrame reconverti (PyTorch) :    A  B   C\n",
            "0  2  5   8\n",
            "1  3  6   9\n",
            "2  4  7  10\n"
          ]
        }
      ]
    },
    {
      "cell_type": "markdown",
      "source": [
        "**Exercice 1.9.10 : Lecture de fichier CSV**\n",
        "\n",
        "**Objectif** : Charger un fichier CSV avec Pandas et afficher la moyenne d’une colonne."
      ],
      "metadata": {
        "id": "fJ0uh8D5Ku5C"
      }
    },
    {
      "cell_type": "code",
      "source": [
        "import pandas as pd\n",
        "\n",
        "# Charger le fichier CSV (remplacez \"data.csv\" par le nom de votre fichier)\n",
        "df = pd.read_csv(\"data.csv\")\n",
        "\n",
        "# Afficher la moyenne d’une colonne (par exemple, \"values\")\n",
        "mean_values = df[\"values\"].mean()\n",
        "print(\"Moyenne de la colonne 'values' :\", mean_values)"
      ],
      "metadata": {
        "id": "aRtt8NoaK6DC"
      },
      "execution_count": null,
      "outputs": []
    },
    {
      "cell_type": "markdown",
      "source": [
        "**Exercice 1.9.11 : Présentation Jupyter**\n",
        "\n",
        "**Objectif** : Réaliser un notebook Jupyter expliquant l’utilisation de NumPy, Plotly, Pandas, et Polars."
      ],
      "metadata": {
        "id": "A8kf_ReCLDzd"
      }
    },
    {
      "cell_type": "code",
      "source": [
        "import numpy as np\n",
        "import pandas as pd\n",
        "import polars as pl\n",
        "import plotly.express as px\n",
        "\n",
        "# Section 1: NumPy\n",
        "print(\"=== NumPy ===\")\n",
        "arr = np.array([1, 2, 3])\n",
        "print(\"Array NumPy:\", arr)\n",
        "print(\"Moyenne:\", np.mean(arr))\n",
        "\n",
        "# Section 2: Pandas\n",
        "print(\"\\n=== Pandas ===\")\n",
        "df = pd.DataFrame({'A': [1, 2, 3], 'B': [4, 5, 6]})\n",
        "print(\"DataFrame Pandas:\\n\", df)\n",
        "print(\"Moyenne de la colonne A:\", df['A'].mean())\n",
        "\n",
        "# Section 3: Plotly\n",
        "print(\"\\n=== Plotly ===\")\n",
        "# Exemple avec un jeu de données intégré\n",
        "df_plotly = px.data.iris()\n",
        "fig = px.scatter(df_plotly, x=\"sepal_width\", y=\"sepal_length\", color=\"species\")\n",
        "fig.show()\n",
        "\n",
        "# Section 4: Polars\n",
        "print(\"\\n=== Polars ===\")\n",
        "df_pl = pl.DataFrame({'A': [1, 2, 3], 'B': [4, 5, 6]})\n",
        "print(\"DataFrame Polars:\\n\", df_pl)\n",
        "print(\"Moyenne de la colonne A:\", df_pl['A'].mean())"
      ],
      "metadata": {
        "colab": {
          "base_uri": "https://localhost:8080/",
          "height": 1000
        },
        "id": "J2yZKIDHLNil",
        "outputId": "f3cf8717-4f31-4edb-bb34-c1c54970d86e"
      },
      "execution_count": 13,
      "outputs": [
        {
          "output_type": "stream",
          "name": "stdout",
          "text": [
            "=== NumPy ===\n",
            "Array NumPy: [1 2 3]\n",
            "Moyenne: 2.0\n",
            "\n",
            "=== Pandas ===\n",
            "DataFrame Pandas:\n",
            "    A  B\n",
            "0  1  4\n",
            "1  2  5\n",
            "2  3  6\n",
            "Moyenne de la colonne A: 2.0\n",
            "\n",
            "=== Plotly ===\n"
          ]
        },
        {
          "output_type": "display_data",
          "data": {
            "text/html": [
              "<html>\n",
              "<head><meta charset=\"utf-8\" /></head>\n",
              "<body>\n",
              "    <div>            <script src=\"https://cdnjs.cloudflare.com/ajax/libs/mathjax/2.7.5/MathJax.js?config=TeX-AMS-MML_SVG\"></script><script type=\"text/javascript\">if (window.MathJax && window.MathJax.Hub && window.MathJax.Hub.Config) {window.MathJax.Hub.Config({SVG: {font: \"STIX-Web\"}});}</script>                <script type=\"text/javascript\">window.PlotlyConfig = {MathJaxConfig: 'local'};</script>\n",
              "        <script charset=\"utf-8\" src=\"https://cdn.plot.ly/plotly-2.35.2.min.js\"></script>                <div id=\"e3247c3f-dbb2-4dba-b353-cf3bb1211269\" class=\"plotly-graph-div\" style=\"height:525px; width:100%;\"></div>            <script type=\"text/javascript\">                                    window.PLOTLYENV=window.PLOTLYENV || {};                                    if (document.getElementById(\"e3247c3f-dbb2-4dba-b353-cf3bb1211269\")) {                    Plotly.newPlot(                        \"e3247c3f-dbb2-4dba-b353-cf3bb1211269\",                        [{\"hovertemplate\":\"species=setosa\\u003cbr\\u003esepal_width=%{x}\\u003cbr\\u003esepal_length=%{y}\\u003cextra\\u003e\\u003c\\u002fextra\\u003e\",\"legendgroup\":\"setosa\",\"marker\":{\"color\":\"#636efa\",\"symbol\":\"circle\"},\"mode\":\"markers\",\"name\":\"setosa\",\"orientation\":\"v\",\"showlegend\":true,\"x\":[3.5,3.0,3.2,3.1,3.6,3.9,3.4,3.4,2.9,3.1,3.7,3.4,3.0,3.0,4.0,4.4,3.9,3.5,3.8,3.8,3.4,3.7,3.6,3.3,3.4,3.0,3.4,3.5,3.4,3.2,3.1,3.4,4.1,4.2,3.1,3.2,3.5,3.1,3.0,3.4,3.5,2.3,3.2,3.5,3.8,3.0,3.8,3.2,3.7,3.3],\"xaxis\":\"x\",\"y\":[5.1,4.9,4.7,4.6,5.0,5.4,4.6,5.0,4.4,4.9,5.4,4.8,4.8,4.3,5.8,5.7,5.4,5.1,5.7,5.1,5.4,5.1,4.6,5.1,4.8,5.0,5.0,5.2,5.2,4.7,4.8,5.4,5.2,5.5,4.9,5.0,5.5,4.9,4.4,5.1,5.0,4.5,4.4,5.0,5.1,4.8,5.1,4.6,5.3,5.0],\"yaxis\":\"y\",\"type\":\"scatter\"},{\"hovertemplate\":\"species=versicolor\\u003cbr\\u003esepal_width=%{x}\\u003cbr\\u003esepal_length=%{y}\\u003cextra\\u003e\\u003c\\u002fextra\\u003e\",\"legendgroup\":\"versicolor\",\"marker\":{\"color\":\"#EF553B\",\"symbol\":\"circle\"},\"mode\":\"markers\",\"name\":\"versicolor\",\"orientation\":\"v\",\"showlegend\":true,\"x\":[3.2,3.2,3.1,2.3,2.8,2.8,3.3,2.4,2.9,2.7,2.0,3.0,2.2,2.9,2.9,3.1,3.0,2.7,2.2,2.5,3.2,2.8,2.5,2.8,2.9,3.0,2.8,3.0,2.9,2.6,2.4,2.4,2.7,2.7,3.0,3.4,3.1,2.3,3.0,2.5,2.6,3.0,2.6,2.3,2.7,3.0,2.9,2.9,2.5,2.8],\"xaxis\":\"x\",\"y\":[7.0,6.4,6.9,5.5,6.5,5.7,6.3,4.9,6.6,5.2,5.0,5.9,6.0,6.1,5.6,6.7,5.6,5.8,6.2,5.6,5.9,6.1,6.3,6.1,6.4,6.6,6.8,6.7,6.0,5.7,5.5,5.5,5.8,6.0,5.4,6.0,6.7,6.3,5.6,5.5,5.5,6.1,5.8,5.0,5.6,5.7,5.7,6.2,5.1,5.7],\"yaxis\":\"y\",\"type\":\"scatter\"},{\"hovertemplate\":\"species=virginica\\u003cbr\\u003esepal_width=%{x}\\u003cbr\\u003esepal_length=%{y}\\u003cextra\\u003e\\u003c\\u002fextra\\u003e\",\"legendgroup\":\"virginica\",\"marker\":{\"color\":\"#00cc96\",\"symbol\":\"circle\"},\"mode\":\"markers\",\"name\":\"virginica\",\"orientation\":\"v\",\"showlegend\":true,\"x\":[3.3,2.7,3.0,2.9,3.0,3.0,2.5,2.9,2.5,3.6,3.2,2.7,3.0,2.5,2.8,3.2,3.0,3.8,2.6,2.2,3.2,2.8,2.8,2.7,3.3,3.2,2.8,3.0,2.8,3.0,2.8,3.8,2.8,2.8,2.6,3.0,3.4,3.1,3.0,3.1,3.1,3.1,2.7,3.2,3.3,3.0,2.5,3.0,3.4,3.0],\"xaxis\":\"x\",\"y\":[6.3,5.8,7.1,6.3,6.5,7.6,4.9,7.3,6.7,7.2,6.5,6.4,6.8,5.7,5.8,6.4,6.5,7.7,7.7,6.0,6.9,5.6,7.7,6.3,6.7,7.2,6.2,6.1,6.4,7.2,7.4,7.9,6.4,6.3,6.1,7.7,6.3,6.4,6.0,6.9,6.7,6.9,5.8,6.8,6.7,6.7,6.3,6.5,6.2,5.9],\"yaxis\":\"y\",\"type\":\"scatter\"}],                        {\"template\":{\"data\":{\"histogram2dcontour\":[{\"type\":\"histogram2dcontour\",\"colorbar\":{\"outlinewidth\":0,\"ticks\":\"\"},\"colorscale\":[[0.0,\"#0d0887\"],[0.1111111111111111,\"#46039f\"],[0.2222222222222222,\"#7201a8\"],[0.3333333333333333,\"#9c179e\"],[0.4444444444444444,\"#bd3786\"],[0.5555555555555556,\"#d8576b\"],[0.6666666666666666,\"#ed7953\"],[0.7777777777777778,\"#fb9f3a\"],[0.8888888888888888,\"#fdca26\"],[1.0,\"#f0f921\"]]}],\"choropleth\":[{\"type\":\"choropleth\",\"colorbar\":{\"outlinewidth\":0,\"ticks\":\"\"}}],\"histogram2d\":[{\"type\":\"histogram2d\",\"colorbar\":{\"outlinewidth\":0,\"ticks\":\"\"},\"colorscale\":[[0.0,\"#0d0887\"],[0.1111111111111111,\"#46039f\"],[0.2222222222222222,\"#7201a8\"],[0.3333333333333333,\"#9c179e\"],[0.4444444444444444,\"#bd3786\"],[0.5555555555555556,\"#d8576b\"],[0.6666666666666666,\"#ed7953\"],[0.7777777777777778,\"#fb9f3a\"],[0.8888888888888888,\"#fdca26\"],[1.0,\"#f0f921\"]]}],\"heatmap\":[{\"type\":\"heatmap\",\"colorbar\":{\"outlinewidth\":0,\"ticks\":\"\"},\"colorscale\":[[0.0,\"#0d0887\"],[0.1111111111111111,\"#46039f\"],[0.2222222222222222,\"#7201a8\"],[0.3333333333333333,\"#9c179e\"],[0.4444444444444444,\"#bd3786\"],[0.5555555555555556,\"#d8576b\"],[0.6666666666666666,\"#ed7953\"],[0.7777777777777778,\"#fb9f3a\"],[0.8888888888888888,\"#fdca26\"],[1.0,\"#f0f921\"]]}],\"heatmapgl\":[{\"type\":\"heatmapgl\",\"colorbar\":{\"outlinewidth\":0,\"ticks\":\"\"},\"colorscale\":[[0.0,\"#0d0887\"],[0.1111111111111111,\"#46039f\"],[0.2222222222222222,\"#7201a8\"],[0.3333333333333333,\"#9c179e\"],[0.4444444444444444,\"#bd3786\"],[0.5555555555555556,\"#d8576b\"],[0.6666666666666666,\"#ed7953\"],[0.7777777777777778,\"#fb9f3a\"],[0.8888888888888888,\"#fdca26\"],[1.0,\"#f0f921\"]]}],\"contourcarpet\":[{\"type\":\"contourcarpet\",\"colorbar\":{\"outlinewidth\":0,\"ticks\":\"\"}}],\"contour\":[{\"type\":\"contour\",\"colorbar\":{\"outlinewidth\":0,\"ticks\":\"\"},\"colorscale\":[[0.0,\"#0d0887\"],[0.1111111111111111,\"#46039f\"],[0.2222222222222222,\"#7201a8\"],[0.3333333333333333,\"#9c179e\"],[0.4444444444444444,\"#bd3786\"],[0.5555555555555556,\"#d8576b\"],[0.6666666666666666,\"#ed7953\"],[0.7777777777777778,\"#fb9f3a\"],[0.8888888888888888,\"#fdca26\"],[1.0,\"#f0f921\"]]}],\"surface\":[{\"type\":\"surface\",\"colorbar\":{\"outlinewidth\":0,\"ticks\":\"\"},\"colorscale\":[[0.0,\"#0d0887\"],[0.1111111111111111,\"#46039f\"],[0.2222222222222222,\"#7201a8\"],[0.3333333333333333,\"#9c179e\"],[0.4444444444444444,\"#bd3786\"],[0.5555555555555556,\"#d8576b\"],[0.6666666666666666,\"#ed7953\"],[0.7777777777777778,\"#fb9f3a\"],[0.8888888888888888,\"#fdca26\"],[1.0,\"#f0f921\"]]}],\"mesh3d\":[{\"type\":\"mesh3d\",\"colorbar\":{\"outlinewidth\":0,\"ticks\":\"\"}}],\"scatter\":[{\"fillpattern\":{\"fillmode\":\"overlay\",\"size\":10,\"solidity\":0.2},\"type\":\"scatter\"}],\"parcoords\":[{\"type\":\"parcoords\",\"line\":{\"colorbar\":{\"outlinewidth\":0,\"ticks\":\"\"}}}],\"scatterpolargl\":[{\"type\":\"scatterpolargl\",\"marker\":{\"colorbar\":{\"outlinewidth\":0,\"ticks\":\"\"}}}],\"bar\":[{\"error_x\":{\"color\":\"#2a3f5f\"},\"error_y\":{\"color\":\"#2a3f5f\"},\"marker\":{\"line\":{\"color\":\"#E5ECF6\",\"width\":0.5},\"pattern\":{\"fillmode\":\"overlay\",\"size\":10,\"solidity\":0.2}},\"type\":\"bar\"}],\"scattergeo\":[{\"type\":\"scattergeo\",\"marker\":{\"colorbar\":{\"outlinewidth\":0,\"ticks\":\"\"}}}],\"scatterpolar\":[{\"type\":\"scatterpolar\",\"marker\":{\"colorbar\":{\"outlinewidth\":0,\"ticks\":\"\"}}}],\"histogram\":[{\"marker\":{\"pattern\":{\"fillmode\":\"overlay\",\"size\":10,\"solidity\":0.2}},\"type\":\"histogram\"}],\"scattergl\":[{\"type\":\"scattergl\",\"marker\":{\"colorbar\":{\"outlinewidth\":0,\"ticks\":\"\"}}}],\"scatter3d\":[{\"type\":\"scatter3d\",\"line\":{\"colorbar\":{\"outlinewidth\":0,\"ticks\":\"\"}},\"marker\":{\"colorbar\":{\"outlinewidth\":0,\"ticks\":\"\"}}}],\"scattermapbox\":[{\"type\":\"scattermapbox\",\"marker\":{\"colorbar\":{\"outlinewidth\":0,\"ticks\":\"\"}}}],\"scatterternary\":[{\"type\":\"scatterternary\",\"marker\":{\"colorbar\":{\"outlinewidth\":0,\"ticks\":\"\"}}}],\"scattercarpet\":[{\"type\":\"scattercarpet\",\"marker\":{\"colorbar\":{\"outlinewidth\":0,\"ticks\":\"\"}}}],\"carpet\":[{\"aaxis\":{\"endlinecolor\":\"#2a3f5f\",\"gridcolor\":\"white\",\"linecolor\":\"white\",\"minorgridcolor\":\"white\",\"startlinecolor\":\"#2a3f5f\"},\"baxis\":{\"endlinecolor\":\"#2a3f5f\",\"gridcolor\":\"white\",\"linecolor\":\"white\",\"minorgridcolor\":\"white\",\"startlinecolor\":\"#2a3f5f\"},\"type\":\"carpet\"}],\"table\":[{\"cells\":{\"fill\":{\"color\":\"#EBF0F8\"},\"line\":{\"color\":\"white\"}},\"header\":{\"fill\":{\"color\":\"#C8D4E3\"},\"line\":{\"color\":\"white\"}},\"type\":\"table\"}],\"barpolar\":[{\"marker\":{\"line\":{\"color\":\"#E5ECF6\",\"width\":0.5},\"pattern\":{\"fillmode\":\"overlay\",\"size\":10,\"solidity\":0.2}},\"type\":\"barpolar\"}],\"pie\":[{\"automargin\":true,\"type\":\"pie\"}]},\"layout\":{\"autotypenumbers\":\"strict\",\"colorway\":[\"#636efa\",\"#EF553B\",\"#00cc96\",\"#ab63fa\",\"#FFA15A\",\"#19d3f3\",\"#FF6692\",\"#B6E880\",\"#FF97FF\",\"#FECB52\"],\"font\":{\"color\":\"#2a3f5f\"},\"hovermode\":\"closest\",\"hoverlabel\":{\"align\":\"left\"},\"paper_bgcolor\":\"white\",\"plot_bgcolor\":\"#E5ECF6\",\"polar\":{\"bgcolor\":\"#E5ECF6\",\"angularaxis\":{\"gridcolor\":\"white\",\"linecolor\":\"white\",\"ticks\":\"\"},\"radialaxis\":{\"gridcolor\":\"white\",\"linecolor\":\"white\",\"ticks\":\"\"}},\"ternary\":{\"bgcolor\":\"#E5ECF6\",\"aaxis\":{\"gridcolor\":\"white\",\"linecolor\":\"white\",\"ticks\":\"\"},\"baxis\":{\"gridcolor\":\"white\",\"linecolor\":\"white\",\"ticks\":\"\"},\"caxis\":{\"gridcolor\":\"white\",\"linecolor\":\"white\",\"ticks\":\"\"}},\"coloraxis\":{\"colorbar\":{\"outlinewidth\":0,\"ticks\":\"\"}},\"colorscale\":{\"sequential\":[[0.0,\"#0d0887\"],[0.1111111111111111,\"#46039f\"],[0.2222222222222222,\"#7201a8\"],[0.3333333333333333,\"#9c179e\"],[0.4444444444444444,\"#bd3786\"],[0.5555555555555556,\"#d8576b\"],[0.6666666666666666,\"#ed7953\"],[0.7777777777777778,\"#fb9f3a\"],[0.8888888888888888,\"#fdca26\"],[1.0,\"#f0f921\"]],\"sequentialminus\":[[0.0,\"#0d0887\"],[0.1111111111111111,\"#46039f\"],[0.2222222222222222,\"#7201a8\"],[0.3333333333333333,\"#9c179e\"],[0.4444444444444444,\"#bd3786\"],[0.5555555555555556,\"#d8576b\"],[0.6666666666666666,\"#ed7953\"],[0.7777777777777778,\"#fb9f3a\"],[0.8888888888888888,\"#fdca26\"],[1.0,\"#f0f921\"]],\"diverging\":[[0,\"#8e0152\"],[0.1,\"#c51b7d\"],[0.2,\"#de77ae\"],[0.3,\"#f1b6da\"],[0.4,\"#fde0ef\"],[0.5,\"#f7f7f7\"],[0.6,\"#e6f5d0\"],[0.7,\"#b8e186\"],[0.8,\"#7fbc41\"],[0.9,\"#4d9221\"],[1,\"#276419\"]]},\"xaxis\":{\"gridcolor\":\"white\",\"linecolor\":\"white\",\"ticks\":\"\",\"title\":{\"standoff\":15},\"zerolinecolor\":\"white\",\"automargin\":true,\"zerolinewidth\":2},\"yaxis\":{\"gridcolor\":\"white\",\"linecolor\":\"white\",\"ticks\":\"\",\"title\":{\"standoff\":15},\"zerolinecolor\":\"white\",\"automargin\":true,\"zerolinewidth\":2},\"scene\":{\"xaxis\":{\"backgroundcolor\":\"#E5ECF6\",\"gridcolor\":\"white\",\"linecolor\":\"white\",\"showbackground\":true,\"ticks\":\"\",\"zerolinecolor\":\"white\",\"gridwidth\":2},\"yaxis\":{\"backgroundcolor\":\"#E5ECF6\",\"gridcolor\":\"white\",\"linecolor\":\"white\",\"showbackground\":true,\"ticks\":\"\",\"zerolinecolor\":\"white\",\"gridwidth\":2},\"zaxis\":{\"backgroundcolor\":\"#E5ECF6\",\"gridcolor\":\"white\",\"linecolor\":\"white\",\"showbackground\":true,\"ticks\":\"\",\"zerolinecolor\":\"white\",\"gridwidth\":2}},\"shapedefaults\":{\"line\":{\"color\":\"#2a3f5f\"}},\"annotationdefaults\":{\"arrowcolor\":\"#2a3f5f\",\"arrowhead\":0,\"arrowwidth\":1},\"geo\":{\"bgcolor\":\"white\",\"landcolor\":\"#E5ECF6\",\"subunitcolor\":\"white\",\"showland\":true,\"showlakes\":true,\"lakecolor\":\"white\"},\"title\":{\"x\":0.05},\"mapbox\":{\"style\":\"light\"}}},\"xaxis\":{\"anchor\":\"y\",\"domain\":[0.0,1.0],\"title\":{\"text\":\"sepal_width\"}},\"yaxis\":{\"anchor\":\"x\",\"domain\":[0.0,1.0],\"title\":{\"text\":\"sepal_length\"}},\"legend\":{\"title\":{\"text\":\"species\"},\"tracegroupgap\":0},\"margin\":{\"t\":60}},                        {\"responsive\": true}                    ).then(function(){\n",
              "                            \n",
              "var gd = document.getElementById('e3247c3f-dbb2-4dba-b353-cf3bb1211269');\n",
              "var x = new MutationObserver(function (mutations, observer) {{\n",
              "        var display = window.getComputedStyle(gd).display;\n",
              "        if (!display || display === 'none') {{\n",
              "            console.log([gd, 'removed!']);\n",
              "            Plotly.purge(gd);\n",
              "            observer.disconnect();\n",
              "        }}\n",
              "}});\n",
              "\n",
              "// Listen for the removal of the full notebook cells\n",
              "var notebookContainer = gd.closest('#notebook-container');\n",
              "if (notebookContainer) {{\n",
              "    x.observe(notebookContainer, {childList: true});\n",
              "}}\n",
              "\n",
              "// Listen for the clearing of the current output cell\n",
              "var outputEl = gd.closest('.output');\n",
              "if (outputEl) {{\n",
              "    x.observe(outputEl, {childList: true});\n",
              "}}\n",
              "\n",
              "                        })                };                            </script>        </div>\n",
              "</body>\n",
              "</html>"
            ]
          },
          "metadata": {}
        },
        {
          "output_type": "stream",
          "name": "stdout",
          "text": [
            "\n",
            "=== Polars ===\n",
            "DataFrame Polars:\n",
            " shape: (3, 2)\n",
            "┌─────┬─────┐\n",
            "│ A   ┆ B   │\n",
            "│ --- ┆ --- │\n",
            "│ i64 ┆ i64 │\n",
            "╞═════╪═════╡\n",
            "│ 1   ┆ 4   │\n",
            "│ 2   ┆ 5   │\n",
            "│ 3   ┆ 6   │\n",
            "└─────┴─────┘\n",
            "Moyenne de la colonne A: 2.0\n"
          ]
        }
      ]
    }
  ]
}